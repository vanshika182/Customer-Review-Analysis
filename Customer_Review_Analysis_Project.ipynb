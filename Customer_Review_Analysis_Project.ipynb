{
  "cells": [
    {
      "cell_type": "code",
      "execution_count": null,
      "metadata": {
        "id": "M9i8BP3LJsJp"
      },
      "outputs": [],
      "source": []
    },
    {
      "cell_type": "markdown",
      "metadata": {
        "id": "SU-kx0L-qG6e"
      },
      "source": [
        "https://www.kaggle.com/datasets/snap/amazon-fine-food-reviews/data\n"
      ]
    },
    {
      "cell_type": "code",
      "execution_count": null,
      "metadata": {
        "id": "gdxRNMWHqLzm"
      },
      "outputs": [],
      "source": [
        "import kagglehub"
      ]
    },
    {
      "cell_type": "code",
      "execution_count": null,
      "metadata": {
        "colab": {
          "base_uri": "https://localhost:8080/"
        },
        "id": "C5ROUCwhqWVQ",
        "outputId": "093fd216-434b-4aea-d6d7-a3bf8d0b83e2"
      },
      "outputs": [
        {
          "name": "stdout",
          "output_type": "stream",
          "text": [
            "Path to dataset files: /kaggle/input/amazon-fine-food-reviews\n"
          ]
        }
      ],
      "source": [
        "# Download latest version\n",
        "path = kagglehub.dataset_download(\"snap/amazon-fine-food-reviews\")\n",
        "\n",
        "print(\"Path to dataset files:\", path)"
      ]
    },
    {
      "cell_type": "code",
      "execution_count": null,
      "metadata": {
        "colab": {
          "base_uri": "https://localhost:8080/"
        },
        "id": "p_gAt-Tmqg9M",
        "outputId": "5c72a8b8-fd2a-4de4-e16d-d4e0becfff08"
      },
      "outputs": [
        {
          "name": "stdout",
          "output_type": "stream",
          "text": [
            "total 643M\n",
            "drwxr-sr-x 2 1000 1000    0 May 18 09:43 .\n",
            "drwxr-xr-x 3 root root 4.0K May 18 10:04 ..\n",
            "-rw-r--r-- 1 1000 1000 356M May 18 09:43 database.sqlite\n",
            "-rw-r--r-- 1 1000 1000  277 May 18 09:42 hashes.txt\n",
            "-rw-r--r-- 1 1000 1000 287M May 18 09:43 Reviews.csv\n"
          ]
        }
      ],
      "source": [
        "!ls -alh {path}"
      ]
    },
    {
      "cell_type": "code",
      "execution_count": null,
      "metadata": {
        "colab": {
          "base_uri": "https://localhost:8080/"
        },
        "id": "QUsyEVrw97rH",
        "outputId": "a2cad5bc-1c0d-4bdd-fa27-c82510cba100"
      },
      "outputs": [
        {
          "name": "stderr",
          "output_type": "stream",
          "text": [
            "[nltk_data] Downloading package stopwords to /root/nltk_data...\n",
            "[nltk_data]   Package stopwords is already up-to-date!\n"
          ]
        }
      ],
      "source": [
        "import pandas as pd\n",
        "import numpy as np\n",
        "import re\n",
        "import string\n",
        "from bs4 import BeautifulSoup\n",
        "import nltk\n",
        "nltk.download('stopwords')\n",
        "from nltk.corpus import stopwords"
      ]
    },
    {
      "cell_type": "code",
      "execution_count": null,
      "metadata": {
        "colab": {
          "base_uri": "https://localhost:8080/"
        },
        "id": "ZE6Q5Pj_-qix",
        "outputId": "15538602-0d22-4101-fc6a-dea03d30d324"
      },
      "outputs": [
        {
          "name": "stdout",
          "output_type": "stream",
          "text": [
            "   Id   ProductId          UserId                      ProfileName  \\\n",
            "0   1  B001E4KFG0  A3SGXH7AUHU8GW                       delmartian   \n",
            "1   2  B00813GRG4  A1D87F6ZCVE5NK                           dll pa   \n",
            "2   3  B000LQOCH0   ABXLMWJIXXAIN  Natalia Corres \"Natalia Corres\"   \n",
            "3   4  B000UA0QIQ  A395BORC6FGVXV                             Karl   \n",
            "4   5  B006K2ZZ7K  A1UQRSCLF8GW1T    Michael D. Bigham \"M. Wassir\"   \n",
            "\n",
            "   HelpfulnessNumerator  HelpfulnessDenominator  Score        Time  \\\n",
            "0                     1                       1      5  1303862400   \n",
            "1                     0                       0      1  1346976000   \n",
            "2                     1                       1      4  1219017600   \n",
            "3                     3                       3      2  1307923200   \n",
            "4                     0                       0      5  1350777600   \n",
            "\n",
            "                 Summary                                               Text  \n",
            "0  Good Quality Dog Food  I have bought several of the Vitality canned d...  \n",
            "1      Not as Advertised  Product arrived labeled as Jumbo Salted Peanut...  \n",
            "2  \"Delight\" says it all  This is a confection that has been around a fe...  \n",
            "3         Cough Medicine  If you are looking for the secret ingredient i...  \n",
            "4            Great taffy  Great taffy at a great price.  There was a wid...  \n"
          ]
        }
      ],
      "source": [
        "df = pd.read_csv(path + \"/Reviews.csv\")  # Use the correct path\n",
        "df = df.head(100000)  # Take only the first 100,000 rows\n",
        "print(df.head())  # Display the first few rows"
      ]
    },
    {
      "cell_type": "code",
      "execution_count": null,
      "metadata": {
        "colab": {
          "base_uri": "https://localhost:8080/",
          "height": 241
        },
        "id": "J8hc90QrAKIE",
        "outputId": "b12651c5-7873-443d-9b9c-16279fd29b77"
      },
      "outputs": [
        {
          "data": {
            "text/html": [
              "<div>\n",
              "<style scoped>\n",
              "    .dataframe tbody tr th:only-of-type {\n",
              "        vertical-align: middle;\n",
              "    }\n",
              "\n",
              "    .dataframe tbody tr th {\n",
              "        vertical-align: top;\n",
              "    }\n",
              "\n",
              "    .dataframe thead th {\n",
              "        text-align: right;\n",
              "    }\n",
              "</style>\n",
              "<table border=\"1\" class=\"dataframe\">\n",
              "  <thead>\n",
              "    <tr style=\"text-align: right;\">\n",
              "      <th></th>\n",
              "      <th>Text</th>\n",
              "    </tr>\n",
              "  </thead>\n",
              "  <tbody>\n",
              "    <tr>\n",
              "      <th>0</th>\n",
              "      <td>I have bought several of the Vitality canned d...</td>\n",
              "    </tr>\n",
              "    <tr>\n",
              "      <th>1</th>\n",
              "      <td>Product arrived labeled as Jumbo Salted Peanut...</td>\n",
              "    </tr>\n",
              "    <tr>\n",
              "      <th>2</th>\n",
              "      <td>This is a confection that has been around a fe...</td>\n",
              "    </tr>\n",
              "    <tr>\n",
              "      <th>3</th>\n",
              "      <td>If you are looking for the secret ingredient i...</td>\n",
              "    </tr>\n",
              "    <tr>\n",
              "      <th>4</th>\n",
              "      <td>Great taffy at a great price.  There was a wid...</td>\n",
              "    </tr>\n",
              "  </tbody>\n",
              "</table>\n",
              "</div><br><label><b>dtype:</b> object</label>"
            ],
            "text/plain": [
              "0    I have bought several of the Vitality canned d...\n",
              "1    Product arrived labeled as Jumbo Salted Peanut...\n",
              "2    This is a confection that has been around a fe...\n",
              "3    If you are looking for the secret ingredient i...\n",
              "4    Great taffy at a great price.  There was a wid...\n",
              "Name: Text, dtype: object"
            ]
          },
          "execution_count": 6,
          "metadata": {},
          "output_type": "execute_result"
        }
      ],
      "source": [
        "df['Text'].head()"
      ]
    },
    {
      "cell_type": "code",
      "execution_count": null,
      "metadata": {
        "id": "ZwXLzwz3BUQ-"
      },
      "outputs": [],
      "source": [
        "stop_words = set(stopwords.words('english'))\n",
        "\n",
        "def clean_text(text):\n",
        "    # 1. Remove HTML tags\n",
        "    text = BeautifulSoup(text, \"html.parser\").get_text()\n",
        "\n",
        "    # 2. Lowercase\n",
        "    text = text.lower()\n",
        "\n",
        "    # 3. Remove special characters and numbers\n",
        "    text = re.sub(r'[^a-z\\s]', '', text)\n",
        "\n",
        "    # 4. Remove stopwords\n",
        "    text = ' '.join(word for word in text.split() if word not in stop_words)\n",
        "\n",
        "    return text"
      ]
    },
    {
      "cell_type": "code",
      "execution_count": null,
      "metadata": {
        "id": "-_vvsETxBiY9"
      },
      "outputs": [],
      "source": [
        "df['Cleaned_Text'] = df['Text'].apply(clean_text)"
      ]
    },
    {
      "cell_type": "code",
      "execution_count": null,
      "metadata": {
        "colab": {
          "base_uri": "https://localhost:8080/",
          "height": 206
        },
        "id": "mSPyPpvDBrJR",
        "outputId": "2b0c4bd2-ac71-42f5-ee27-5b864a393644"
      },
      "outputs": [
        {
          "data": {
            "application/vnd.google.colaboratory.intrinsic+json": {
              "summary": "{\n  \"name\": \"df[['Text', 'Cleaned_Text']]\",\n  \"rows\": 5,\n  \"fields\": [\n    {\n      \"column\": \"Text\",\n      \"properties\": {\n        \"dtype\": \"string\",\n        \"num_unique_values\": 5,\n        \"samples\": [\n          \"Product arrived labeled as Jumbo Salted Peanuts...the peanuts were actually small sized unsalted. Not sure if this was an error or if the vendor intended to represent the product as \\\"Jumbo\\\".\",\n          \"Great taffy at a great price.  There was a wide assortment of yummy taffy.  Delivery was very quick.  If your a taffy lover, this is a deal.\",\n          \"This is a confection that has been around a few centuries.  It is a light, pillowy citrus gelatin with nuts - in this case Filberts. And it is cut into tiny squares and then liberally coated with powdered sugar.  And it is a tiny mouthful of heaven.  Not too chewy, and very flavorful.  I highly recommend this yummy treat.  If you are familiar with the story of C.S. Lewis' \\\"The Lion, The Witch, and The Wardrobe\\\" - this is the treat that seduces Edmund into selling out his Brother and Sisters to the Witch.\"\n        ],\n        \"semantic_type\": \"\",\n        \"description\": \"\"\n      }\n    },\n    {\n      \"column\": \"Cleaned_Text\",\n      \"properties\": {\n        \"dtype\": \"string\",\n        \"num_unique_values\": 5,\n        \"samples\": [\n          \"product arrived labeled jumbo salted peanutsthe peanuts actually small sized unsalted sure error vendor intended represent product jumbo\",\n          \"great taffy great price wide assortment yummy taffy delivery quick taffy lover deal\",\n          \"confection around centuries light pillowy citrus gelatin nuts case filberts cut tiny squares liberally coated powdered sugar tiny mouthful heaven chewy flavorful highly recommend yummy treat familiar story cs lewis lion witch wardrobe treat seduces edmund selling brother sisters witch\"\n        ],\n        \"semantic_type\": \"\",\n        \"description\": \"\"\n      }\n    }\n  ]\n}",
              "type": "dataframe"
            },
            "text/html": [
              "\n",
              "  <div id=\"df-864b0ba7-5d9f-4315-9261-f403b5ab1486\" class=\"colab-df-container\">\n",
              "    <div>\n",
              "<style scoped>\n",
              "    .dataframe tbody tr th:only-of-type {\n",
              "        vertical-align: middle;\n",
              "    }\n",
              "\n",
              "    .dataframe tbody tr th {\n",
              "        vertical-align: top;\n",
              "    }\n",
              "\n",
              "    .dataframe thead th {\n",
              "        text-align: right;\n",
              "    }\n",
              "</style>\n",
              "<table border=\"1\" class=\"dataframe\">\n",
              "  <thead>\n",
              "    <tr style=\"text-align: right;\">\n",
              "      <th></th>\n",
              "      <th>Text</th>\n",
              "      <th>Cleaned_Text</th>\n",
              "    </tr>\n",
              "  </thead>\n",
              "  <tbody>\n",
              "    <tr>\n",
              "      <th>0</th>\n",
              "      <td>I have bought several of the Vitality canned d...</td>\n",
              "      <td>bought several vitality canned dog food produc...</td>\n",
              "    </tr>\n",
              "    <tr>\n",
              "      <th>1</th>\n",
              "      <td>Product arrived labeled as Jumbo Salted Peanut...</td>\n",
              "      <td>product arrived labeled jumbo salted peanutsth...</td>\n",
              "    </tr>\n",
              "    <tr>\n",
              "      <th>2</th>\n",
              "      <td>This is a confection that has been around a fe...</td>\n",
              "      <td>confection around centuries light pillowy citr...</td>\n",
              "    </tr>\n",
              "    <tr>\n",
              "      <th>3</th>\n",
              "      <td>If you are looking for the secret ingredient i...</td>\n",
              "      <td>looking secret ingredient robitussin believe f...</td>\n",
              "    </tr>\n",
              "    <tr>\n",
              "      <th>4</th>\n",
              "      <td>Great taffy at a great price.  There was a wid...</td>\n",
              "      <td>great taffy great price wide assortment yummy ...</td>\n",
              "    </tr>\n",
              "  </tbody>\n",
              "</table>\n",
              "</div>\n",
              "    <div class=\"colab-df-buttons\">\n",
              "\n",
              "  <div class=\"colab-df-container\">\n",
              "    <button class=\"colab-df-convert\" onclick=\"convertToInteractive('df-864b0ba7-5d9f-4315-9261-f403b5ab1486')\"\n",
              "            title=\"Convert this dataframe to an interactive table.\"\n",
              "            style=\"display:none;\">\n",
              "\n",
              "  <svg xmlns=\"http://www.w3.org/2000/svg\" height=\"24px\" viewBox=\"0 -960 960 960\">\n",
              "    <path d=\"M120-120v-720h720v720H120Zm60-500h600v-160H180v160Zm220 220h160v-160H400v160Zm0 220h160v-160H400v160ZM180-400h160v-160H180v160Zm440 0h160v-160H620v160ZM180-180h160v-160H180v160Zm440 0h160v-160H620v160Z\"/>\n",
              "  </svg>\n",
              "    </button>\n",
              "\n",
              "  <style>\n",
              "    .colab-df-container {\n",
              "      display:flex;\n",
              "      gap: 12px;\n",
              "    }\n",
              "\n",
              "    .colab-df-convert {\n",
              "      background-color: #E8F0FE;\n",
              "      border: none;\n",
              "      border-radius: 50%;\n",
              "      cursor: pointer;\n",
              "      display: none;\n",
              "      fill: #1967D2;\n",
              "      height: 32px;\n",
              "      padding: 0 0 0 0;\n",
              "      width: 32px;\n",
              "    }\n",
              "\n",
              "    .colab-df-convert:hover {\n",
              "      background-color: #E2EBFA;\n",
              "      box-shadow: 0px 1px 2px rgba(60, 64, 67, 0.3), 0px 1px 3px 1px rgba(60, 64, 67, 0.15);\n",
              "      fill: #174EA6;\n",
              "    }\n",
              "\n",
              "    .colab-df-buttons div {\n",
              "      margin-bottom: 4px;\n",
              "    }\n",
              "\n",
              "    [theme=dark] .colab-df-convert {\n",
              "      background-color: #3B4455;\n",
              "      fill: #D2E3FC;\n",
              "    }\n",
              "\n",
              "    [theme=dark] .colab-df-convert:hover {\n",
              "      background-color: #434B5C;\n",
              "      box-shadow: 0px 1px 3px 1px rgba(0, 0, 0, 0.15);\n",
              "      filter: drop-shadow(0px 1px 2px rgba(0, 0, 0, 0.3));\n",
              "      fill: #FFFFFF;\n",
              "    }\n",
              "  </style>\n",
              "\n",
              "    <script>\n",
              "      const buttonEl =\n",
              "        document.querySelector('#df-864b0ba7-5d9f-4315-9261-f403b5ab1486 button.colab-df-convert');\n",
              "      buttonEl.style.display =\n",
              "        google.colab.kernel.accessAllowed ? 'block' : 'none';\n",
              "\n",
              "      async function convertToInteractive(key) {\n",
              "        const element = document.querySelector('#df-864b0ba7-5d9f-4315-9261-f403b5ab1486');\n",
              "        const dataTable =\n",
              "          await google.colab.kernel.invokeFunction('convertToInteractive',\n",
              "                                                    [key], {});\n",
              "        if (!dataTable) return;\n",
              "\n",
              "        const docLinkHtml = 'Like what you see? Visit the ' +\n",
              "          '<a target=\"_blank\" href=https://colab.research.google.com/notebooks/data_table.ipynb>data table notebook</a>'\n",
              "          + ' to learn more about interactive tables.';\n",
              "        element.innerHTML = '';\n",
              "        dataTable['output_type'] = 'display_data';\n",
              "        await google.colab.output.renderOutput(dataTable, element);\n",
              "        const docLink = document.createElement('div');\n",
              "        docLink.innerHTML = docLinkHtml;\n",
              "        element.appendChild(docLink);\n",
              "      }\n",
              "    </script>\n",
              "  </div>\n",
              "\n",
              "\n",
              "    <div id=\"df-93520af3-108d-4646-8642-fa7a2cdef61a\">\n",
              "      <button class=\"colab-df-quickchart\" onclick=\"quickchart('df-93520af3-108d-4646-8642-fa7a2cdef61a')\"\n",
              "                title=\"Suggest charts\"\n",
              "                style=\"display:none;\">\n",
              "\n",
              "<svg xmlns=\"http://www.w3.org/2000/svg\" height=\"24px\"viewBox=\"0 0 24 24\"\n",
              "     width=\"24px\">\n",
              "    <g>\n",
              "        <path d=\"M19 3H5c-1.1 0-2 .9-2 2v14c0 1.1.9 2 2 2h14c1.1 0 2-.9 2-2V5c0-1.1-.9-2-2-2zM9 17H7v-7h2v7zm4 0h-2V7h2v10zm4 0h-2v-4h2v4z\"/>\n",
              "    </g>\n",
              "</svg>\n",
              "      </button>\n",
              "\n",
              "<style>\n",
              "  .colab-df-quickchart {\n",
              "      --bg-color: #E8F0FE;\n",
              "      --fill-color: #1967D2;\n",
              "      --hover-bg-color: #E2EBFA;\n",
              "      --hover-fill-color: #174EA6;\n",
              "      --disabled-fill-color: #AAA;\n",
              "      --disabled-bg-color: #DDD;\n",
              "  }\n",
              "\n",
              "  [theme=dark] .colab-df-quickchart {\n",
              "      --bg-color: #3B4455;\n",
              "      --fill-color: #D2E3FC;\n",
              "      --hover-bg-color: #434B5C;\n",
              "      --hover-fill-color: #FFFFFF;\n",
              "      --disabled-bg-color: #3B4455;\n",
              "      --disabled-fill-color: #666;\n",
              "  }\n",
              "\n",
              "  .colab-df-quickchart {\n",
              "    background-color: var(--bg-color);\n",
              "    border: none;\n",
              "    border-radius: 50%;\n",
              "    cursor: pointer;\n",
              "    display: none;\n",
              "    fill: var(--fill-color);\n",
              "    height: 32px;\n",
              "    padding: 0;\n",
              "    width: 32px;\n",
              "  }\n",
              "\n",
              "  .colab-df-quickchart:hover {\n",
              "    background-color: var(--hover-bg-color);\n",
              "    box-shadow: 0 1px 2px rgba(60, 64, 67, 0.3), 0 1px 3px 1px rgba(60, 64, 67, 0.15);\n",
              "    fill: var(--button-hover-fill-color);\n",
              "  }\n",
              "\n",
              "  .colab-df-quickchart-complete:disabled,\n",
              "  .colab-df-quickchart-complete:disabled:hover {\n",
              "    background-color: var(--disabled-bg-color);\n",
              "    fill: var(--disabled-fill-color);\n",
              "    box-shadow: none;\n",
              "  }\n",
              "\n",
              "  .colab-df-spinner {\n",
              "    border: 2px solid var(--fill-color);\n",
              "    border-color: transparent;\n",
              "    border-bottom-color: var(--fill-color);\n",
              "    animation:\n",
              "      spin 1s steps(1) infinite;\n",
              "  }\n",
              "\n",
              "  @keyframes spin {\n",
              "    0% {\n",
              "      border-color: transparent;\n",
              "      border-bottom-color: var(--fill-color);\n",
              "      border-left-color: var(--fill-color);\n",
              "    }\n",
              "    20% {\n",
              "      border-color: transparent;\n",
              "      border-left-color: var(--fill-color);\n",
              "      border-top-color: var(--fill-color);\n",
              "    }\n",
              "    30% {\n",
              "      border-color: transparent;\n",
              "      border-left-color: var(--fill-color);\n",
              "      border-top-color: var(--fill-color);\n",
              "      border-right-color: var(--fill-color);\n",
              "    }\n",
              "    40% {\n",
              "      border-color: transparent;\n",
              "      border-right-color: var(--fill-color);\n",
              "      border-top-color: var(--fill-color);\n",
              "    }\n",
              "    60% {\n",
              "      border-color: transparent;\n",
              "      border-right-color: var(--fill-color);\n",
              "    }\n",
              "    80% {\n",
              "      border-color: transparent;\n",
              "      border-right-color: var(--fill-color);\n",
              "      border-bottom-color: var(--fill-color);\n",
              "    }\n",
              "    90% {\n",
              "      border-color: transparent;\n",
              "      border-bottom-color: var(--fill-color);\n",
              "    }\n",
              "  }\n",
              "</style>\n",
              "\n",
              "      <script>\n",
              "        async function quickchart(key) {\n",
              "          const quickchartButtonEl =\n",
              "            document.querySelector('#' + key + ' button');\n",
              "          quickchartButtonEl.disabled = true;  // To prevent multiple clicks.\n",
              "          quickchartButtonEl.classList.add('colab-df-spinner');\n",
              "          try {\n",
              "            const charts = await google.colab.kernel.invokeFunction(\n",
              "                'suggestCharts', [key], {});\n",
              "          } catch (error) {\n",
              "            console.error('Error during call to suggestCharts:', error);\n",
              "          }\n",
              "          quickchartButtonEl.classList.remove('colab-df-spinner');\n",
              "          quickchartButtonEl.classList.add('colab-df-quickchart-complete');\n",
              "        }\n",
              "        (() => {\n",
              "          let quickchartButtonEl =\n",
              "            document.querySelector('#df-93520af3-108d-4646-8642-fa7a2cdef61a button');\n",
              "          quickchartButtonEl.style.display =\n",
              "            google.colab.kernel.accessAllowed ? 'block' : 'none';\n",
              "        })();\n",
              "      </script>\n",
              "    </div>\n",
              "\n",
              "    </div>\n",
              "  </div>\n"
            ],
            "text/plain": [
              "                                                Text  \\\n",
              "0  I have bought several of the Vitality canned d...   \n",
              "1  Product arrived labeled as Jumbo Salted Peanut...   \n",
              "2  This is a confection that has been around a fe...   \n",
              "3  If you are looking for the secret ingredient i...   \n",
              "4  Great taffy at a great price.  There was a wid...   \n",
              "\n",
              "                                        Cleaned_Text  \n",
              "0  bought several vitality canned dog food produc...  \n",
              "1  product arrived labeled jumbo salted peanutsth...  \n",
              "2  confection around centuries light pillowy citr...  \n",
              "3  looking secret ingredient robitussin believe f...  \n",
              "4  great taffy great price wide assortment yummy ...  "
            ]
          },
          "execution_count": 9,
          "metadata": {},
          "output_type": "execute_result"
        }
      ],
      "source": [
        "df[['Text', 'Cleaned_Text']].head()"
      ]
    },
    {
      "cell_type": "markdown",
      "metadata": {
        "id": "sojjEk5PrchQ"
      },
      "source": [
        "# Lemmatization"
      ]
    },
    {
      "cell_type": "code",
      "execution_count": null,
      "metadata": {
        "colab": {
          "base_uri": "https://localhost:8080/"
        },
        "id": "u7xCEmsrCMpf",
        "outputId": "61fbc4aa-bf97-4c46-9882-0f15f69c202e"
      },
      "outputs": [
        {
          "name": "stdout",
          "output_type": "stream",
          "text": [
            "Requirement already satisfied: nltk in /usr/local/lib/python3.11/dist-packages (3.9.1)\n",
            "Requirement already satisfied: click in /usr/local/lib/python3.11/dist-packages (from nltk) (8.2.0)\n",
            "Requirement already satisfied: joblib in /usr/local/lib/python3.11/dist-packages (from nltk) (1.5.0)\n",
            "Requirement already satisfied: regex>=2021.8.3 in /usr/local/lib/python3.11/dist-packages (from nltk) (2024.11.6)\n",
            "Requirement already satisfied: tqdm in /usr/local/lib/python3.11/dist-packages (from nltk) (4.67.1)\n"
          ]
        }
      ],
      "source": [
        "pip install nltk"
      ]
    },
    {
      "cell_type": "code",
      "execution_count": null,
      "metadata": {
        "colab": {
          "base_uri": "https://localhost:8080/"
        },
        "id": "wWh29ZPhrhQN",
        "outputId": "d50abee4-3455-4c92-e9bd-8534fa797716"
      },
      "outputs": [
        {
          "name": "stderr",
          "output_type": "stream",
          "text": [
            "[nltk_data] Downloading package wordnet to /root/nltk_data...\n",
            "[nltk_data]   Package wordnet is already up-to-date!\n",
            "[nltk_data] Downloading package omw-1.4 to /root/nltk_data...\n",
            "[nltk_data]   Package omw-1.4 is already up-to-date!\n"
          ]
        },
        {
          "data": {
            "text/plain": [
              "True"
            ]
          },
          "execution_count": 11,
          "metadata": {},
          "output_type": "execute_result"
        }
      ],
      "source": [
        "import nltk\n",
        "nltk.download('wordnet')\n",
        "nltk.download('omw-1.4')  # For WordNet lemmatizer"
      ]
    },
    {
      "cell_type": "code",
      "execution_count": null,
      "metadata": {
        "id": "KBqJTOewrkfe"
      },
      "outputs": [],
      "source": [
        "from nltk.stem import WordNetLemmatizer\n",
        "\n",
        "lemmatizer = WordNetLemmatizer()\n",
        "\n",
        "# Example: Apply on a single sentence\n",
        "def lemmatize_text(text):\n",
        "    return ' '.join([lemmatizer.lemmatize(word) for word in text.split()])"
      ]
    },
    {
      "cell_type": "code",
      "execution_count": null,
      "metadata": {
        "colab": {
          "base_uri": "https://localhost:8080/"
        },
        "id": "dl4DEHoYrqur",
        "outputId": "69391a68-8973-4d59-9e12-72fe82072745"
      },
      "outputs": [
        {
          "name": "stdout",
          "output_type": "stream",
          "text": [
            "\u001b[31mERROR: pip's dependency resolver does not currently take into account all the packages that are installed. This behaviour is the source of the following dependency conflicts.\n",
            "gensim 4.3.3 requires numpy<2.0,>=1.18.5, but you have numpy 2.2.6 which is incompatible.\n",
            "tensorflow 2.18.0 requires numpy<2.1.0,>=1.26.0, but you have numpy 2.2.6 which is incompatible.\n",
            "numba 0.60.0 requires numpy<2.1,>=1.22, but you have numpy 2.2.6 which is incompatible.\n",
            "tsfresh 0.21.0 requires scipy>=1.14.0; python_version >= \"3.10\", but you have scipy 1.13.1 which is incompatible.\u001b[0m\u001b[31m\n",
            "\u001b[0mCollecting en-core-web-sm==3.8.0\n",
            "  Downloading https://github.com/explosion/spacy-models/releases/download/en_core_web_sm-3.8.0/en_core_web_sm-3.8.0-py3-none-any.whl (12.8 MB)\n",
            "\u001b[2K     \u001b[90m━━━━━━━━━━━━━━━━━━━━━━━━━━━━━━━━━━━━━━━\u001b[0m \u001b[32m12.8/12.8 MB\u001b[0m \u001b[31m105.9 MB/s\u001b[0m eta \u001b[36m0:00:00\u001b[0m\n",
            "\u001b[?25h\u001b[38;5;2m✔ Download and installation successful\u001b[0m\n",
            "You can now load the package via spacy.load('en_core_web_sm')\n",
            "\u001b[38;5;3m⚠ Restart to reload dependencies\u001b[0m\n",
            "If you are in a Jupyter or Colab notebook, you may need to restart Python in\n",
            "order to load all the package's dependencies. You can do this by selecting the\n",
            "'Restart kernel' or 'Restart runtime' option.\n"
          ]
        }
      ],
      "source": [
        "!pip install -qq spacy\n",
        "!python -m spacy download en_core_web_sm"
      ]
    },
    {
      "cell_type": "code",
      "execution_count": null,
      "metadata": {
        "colab": {
          "background_save": true
        },
        "id": "WWQJOOGBr0Iw"
      },
      "outputs": [],
      "source": [
        "import spacy\n",
        "\n",
        "nlp = spacy.load(\"en_core_web_sm\")\n",
        "\n",
        "def lemmatize_with_spacy(text):\n",
        "    doc = nlp(text)\n",
        "    return ' '.join([token.lemma_ for token in doc])\n",
        "\n",
        "df['lemmatized_text'] = df['Cleaned_Text'].apply(lemmatize_with_spacy)"
      ]
    },
    {
      "cell_type": "code",
      "execution_count": null,
      "metadata": {
        "colab": {
          "background_save": true
        },
        "id": "Mu3kl1T6sHXV",
        "outputId": "c23930bd-a9ad-4a9b-b0fe-f97103b08056"
      },
      "outputs": [
        {
          "data": {
            "application/vnd.google.colaboratory.intrinsic+json": {
              "summary": "{\n  \"name\": \"df[['Text', 'Cleaned_Text','lemmatized_text']]\",\n  \"rows\": 5,\n  \"fields\": [\n    {\n      \"column\": \"Text\",\n      \"properties\": {\n        \"dtype\": \"string\",\n        \"num_unique_values\": 5,\n        \"samples\": [\n          \"Product arrived labeled as Jumbo Salted Peanuts...the peanuts were actually small sized unsalted. Not sure if this was an error or if the vendor intended to represent the product as \\\"Jumbo\\\".\",\n          \"Great taffy at a great price.  There was a wide assortment of yummy taffy.  Delivery was very quick.  If your a taffy lover, this is a deal.\",\n          \"This is a confection that has been around a few centuries.  It is a light, pillowy citrus gelatin with nuts - in this case Filberts. And it is cut into tiny squares and then liberally coated with powdered sugar.  And it is a tiny mouthful of heaven.  Not too chewy, and very flavorful.  I highly recommend this yummy treat.  If you are familiar with the story of C.S. Lewis' \\\"The Lion, The Witch, and The Wardrobe\\\" - this is the treat that seduces Edmund into selling out his Brother and Sisters to the Witch.\"\n        ],\n        \"semantic_type\": \"\",\n        \"description\": \"\"\n      }\n    },\n    {\n      \"column\": \"Cleaned_Text\",\n      \"properties\": {\n        \"dtype\": \"string\",\n        \"num_unique_values\": 5,\n        \"samples\": [\n          \"product arrived labeled jumbo salted peanutsthe peanuts actually small sized unsalted sure error vendor intended represent product jumbo\",\n          \"great taffy great price wide assortment yummy taffy delivery quick taffy lover deal\",\n          \"confection around centuries light pillowy citrus gelatin nuts case filberts cut tiny squares liberally coated powdered sugar tiny mouthful heaven chewy flavorful highly recommend yummy treat familiar story cs lewis lion witch wardrobe treat seduces edmund selling brother sisters witch\"\n        ],\n        \"semantic_type\": \"\",\n        \"description\": \"\"\n      }\n    },\n    {\n      \"column\": \"lemmatized_text\",\n      \"properties\": {\n        \"dtype\": \"string\",\n        \"num_unique_values\": 5,\n        \"samples\": [\n          \"product arrive label jumbo salt peanutsthe peanut actually small sized unsalted sure error vendor intend represent product jumbo\",\n          \"great taffy great price wide assortment yummy taffy delivery quick taffy lover deal\",\n          \"confection around century light pillowy citrus gelatin nuts case filbert cut tiny square liberally coat powdered sugar tiny mouthful heaven chewy flavorful highly recommend yummy treat familiar story cs lewis lion witch wardrobe treat seduce edmund sell brother sister witch\"\n        ],\n        \"semantic_type\": \"\",\n        \"description\": \"\"\n      }\n    }\n  ]\n}",
              "type": "dataframe"
            },
            "text/html": [
              "\n",
              "  <div id=\"df-13760d8a-dca0-41fe-9dac-d4960d01aaf9\" class=\"colab-df-container\">\n",
              "    <div>\n",
              "<style scoped>\n",
              "    .dataframe tbody tr th:only-of-type {\n",
              "        vertical-align: middle;\n",
              "    }\n",
              "\n",
              "    .dataframe tbody tr th {\n",
              "        vertical-align: top;\n",
              "    }\n",
              "\n",
              "    .dataframe thead th {\n",
              "        text-align: right;\n",
              "    }\n",
              "</style>\n",
              "<table border=\"1\" class=\"dataframe\">\n",
              "  <thead>\n",
              "    <tr style=\"text-align: right;\">\n",
              "      <th></th>\n",
              "      <th>Text</th>\n",
              "      <th>Cleaned_Text</th>\n",
              "      <th>lemmatized_text</th>\n",
              "    </tr>\n",
              "  </thead>\n",
              "  <tbody>\n",
              "    <tr>\n",
              "      <th>0</th>\n",
              "      <td>I have bought several of the Vitality canned d...</td>\n",
              "      <td>bought several vitality canned dog food produc...</td>\n",
              "      <td>buy several vitality can dog food product find...</td>\n",
              "    </tr>\n",
              "    <tr>\n",
              "      <th>1</th>\n",
              "      <td>Product arrived labeled as Jumbo Salted Peanut...</td>\n",
              "      <td>product arrived labeled jumbo salted peanutsth...</td>\n",
              "      <td>product arrive label jumbo salt peanutsthe pea...</td>\n",
              "    </tr>\n",
              "    <tr>\n",
              "      <th>2</th>\n",
              "      <td>This is a confection that has been around a fe...</td>\n",
              "      <td>confection around centuries light pillowy citr...</td>\n",
              "      <td>confection around century light pillowy citrus...</td>\n",
              "    </tr>\n",
              "    <tr>\n",
              "      <th>3</th>\n",
              "      <td>If you are looking for the secret ingredient i...</td>\n",
              "      <td>looking secret ingredient robitussin believe f...</td>\n",
              "      <td>look secret ingredient robitussin believe find...</td>\n",
              "    </tr>\n",
              "    <tr>\n",
              "      <th>4</th>\n",
              "      <td>Great taffy at a great price.  There was a wid...</td>\n",
              "      <td>great taffy great price wide assortment yummy ...</td>\n",
              "      <td>great taffy great price wide assortment yummy ...</td>\n",
              "    </tr>\n",
              "  </tbody>\n",
              "</table>\n",
              "</div>\n",
              "    <div class=\"colab-df-buttons\">\n",
              "\n",
              "  <div class=\"colab-df-container\">\n",
              "    <button class=\"colab-df-convert\" onclick=\"convertToInteractive('df-13760d8a-dca0-41fe-9dac-d4960d01aaf9')\"\n",
              "            title=\"Convert this dataframe to an interactive table.\"\n",
              "            style=\"display:none;\">\n",
              "\n",
              "  <svg xmlns=\"http://www.w3.org/2000/svg\" height=\"24px\" viewBox=\"0 -960 960 960\">\n",
              "    <path d=\"M120-120v-720h720v720H120Zm60-500h600v-160H180v160Zm220 220h160v-160H400v160Zm0 220h160v-160H400v160ZM180-400h160v-160H180v160Zm440 0h160v-160H620v160ZM180-180h160v-160H180v160Zm440 0h160v-160H620v160Z\"/>\n",
              "  </svg>\n",
              "    </button>\n",
              "\n",
              "  <style>\n",
              "    .colab-df-container {\n",
              "      display:flex;\n",
              "      gap: 12px;\n",
              "    }\n",
              "\n",
              "    .colab-df-convert {\n",
              "      background-color: #E8F0FE;\n",
              "      border: none;\n",
              "      border-radius: 50%;\n",
              "      cursor: pointer;\n",
              "      display: none;\n",
              "      fill: #1967D2;\n",
              "      height: 32px;\n",
              "      padding: 0 0 0 0;\n",
              "      width: 32px;\n",
              "    }\n",
              "\n",
              "    .colab-df-convert:hover {\n",
              "      background-color: #E2EBFA;\n",
              "      box-shadow: 0px 1px 2px rgba(60, 64, 67, 0.3), 0px 1px 3px 1px rgba(60, 64, 67, 0.15);\n",
              "      fill: #174EA6;\n",
              "    }\n",
              "\n",
              "    .colab-df-buttons div {\n",
              "      margin-bottom: 4px;\n",
              "    }\n",
              "\n",
              "    [theme=dark] .colab-df-convert {\n",
              "      background-color: #3B4455;\n",
              "      fill: #D2E3FC;\n",
              "    }\n",
              "\n",
              "    [theme=dark] .colab-df-convert:hover {\n",
              "      background-color: #434B5C;\n",
              "      box-shadow: 0px 1px 3px 1px rgba(0, 0, 0, 0.15);\n",
              "      filter: drop-shadow(0px 1px 2px rgba(0, 0, 0, 0.3));\n",
              "      fill: #FFFFFF;\n",
              "    }\n",
              "  </style>\n",
              "\n",
              "    <script>\n",
              "      const buttonEl =\n",
              "        document.querySelector('#df-13760d8a-dca0-41fe-9dac-d4960d01aaf9 button.colab-df-convert');\n",
              "      buttonEl.style.display =\n",
              "        google.colab.kernel.accessAllowed ? 'block' : 'none';\n",
              "\n",
              "      async function convertToInteractive(key) {\n",
              "        const element = document.querySelector('#df-13760d8a-dca0-41fe-9dac-d4960d01aaf9');\n",
              "        const dataTable =\n",
              "          await google.colab.kernel.invokeFunction('convertToInteractive',\n",
              "                                                    [key], {});\n",
              "        if (!dataTable) return;\n",
              "\n",
              "        const docLinkHtml = 'Like what you see? Visit the ' +\n",
              "          '<a target=\"_blank\" href=https://colab.research.google.com/notebooks/data_table.ipynb>data table notebook</a>'\n",
              "          + ' to learn more about interactive tables.';\n",
              "        element.innerHTML = '';\n",
              "        dataTable['output_type'] = 'display_data';\n",
              "        await google.colab.output.renderOutput(dataTable, element);\n",
              "        const docLink = document.createElement('div');\n",
              "        docLink.innerHTML = docLinkHtml;\n",
              "        element.appendChild(docLink);\n",
              "      }\n",
              "    </script>\n",
              "  </div>\n",
              "\n",
              "\n",
              "    <div id=\"df-bc31a2c5-59eb-4c1e-88a3-4c9cb475c95b\">\n",
              "      <button class=\"colab-df-quickchart\" onclick=\"quickchart('df-bc31a2c5-59eb-4c1e-88a3-4c9cb475c95b')\"\n",
              "                title=\"Suggest charts\"\n",
              "                style=\"display:none;\">\n",
              "\n",
              "<svg xmlns=\"http://www.w3.org/2000/svg\" height=\"24px\"viewBox=\"0 0 24 24\"\n",
              "     width=\"24px\">\n",
              "    <g>\n",
              "        <path d=\"M19 3H5c-1.1 0-2 .9-2 2v14c0 1.1.9 2 2 2h14c1.1 0 2-.9 2-2V5c0-1.1-.9-2-2-2zM9 17H7v-7h2v7zm4 0h-2V7h2v10zm4 0h-2v-4h2v4z\"/>\n",
              "    </g>\n",
              "</svg>\n",
              "      </button>\n",
              "\n",
              "<style>\n",
              "  .colab-df-quickchart {\n",
              "      --bg-color: #E8F0FE;\n",
              "      --fill-color: #1967D2;\n",
              "      --hover-bg-color: #E2EBFA;\n",
              "      --hover-fill-color: #174EA6;\n",
              "      --disabled-fill-color: #AAA;\n",
              "      --disabled-bg-color: #DDD;\n",
              "  }\n",
              "\n",
              "  [theme=dark] .colab-df-quickchart {\n",
              "      --bg-color: #3B4455;\n",
              "      --fill-color: #D2E3FC;\n",
              "      --hover-bg-color: #434B5C;\n",
              "      --hover-fill-color: #FFFFFF;\n",
              "      --disabled-bg-color: #3B4455;\n",
              "      --disabled-fill-color: #666;\n",
              "  }\n",
              "\n",
              "  .colab-df-quickchart {\n",
              "    background-color: var(--bg-color);\n",
              "    border: none;\n",
              "    border-radius: 50%;\n",
              "    cursor: pointer;\n",
              "    display: none;\n",
              "    fill: var(--fill-color);\n",
              "    height: 32px;\n",
              "    padding: 0;\n",
              "    width: 32px;\n",
              "  }\n",
              "\n",
              "  .colab-df-quickchart:hover {\n",
              "    background-color: var(--hover-bg-color);\n",
              "    box-shadow: 0 1px 2px rgba(60, 64, 67, 0.3), 0 1px 3px 1px rgba(60, 64, 67, 0.15);\n",
              "    fill: var(--button-hover-fill-color);\n",
              "  }\n",
              "\n",
              "  .colab-df-quickchart-complete:disabled,\n",
              "  .colab-df-quickchart-complete:disabled:hover {\n",
              "    background-color: var(--disabled-bg-color);\n",
              "    fill: var(--disabled-fill-color);\n",
              "    box-shadow: none;\n",
              "  }\n",
              "\n",
              "  .colab-df-spinner {\n",
              "    border: 2px solid var(--fill-color);\n",
              "    border-color: transparent;\n",
              "    border-bottom-color: var(--fill-color);\n",
              "    animation:\n",
              "      spin 1s steps(1) infinite;\n",
              "  }\n",
              "\n",
              "  @keyframes spin {\n",
              "    0% {\n",
              "      border-color: transparent;\n",
              "      border-bottom-color: var(--fill-color);\n",
              "      border-left-color: var(--fill-color);\n",
              "    }\n",
              "    20% {\n",
              "      border-color: transparent;\n",
              "      border-left-color: var(--fill-color);\n",
              "      border-top-color: var(--fill-color);\n",
              "    }\n",
              "    30% {\n",
              "      border-color: transparent;\n",
              "      border-left-color: var(--fill-color);\n",
              "      border-top-color: var(--fill-color);\n",
              "      border-right-color: var(--fill-color);\n",
              "    }\n",
              "    40% {\n",
              "      border-color: transparent;\n",
              "      border-right-color: var(--fill-color);\n",
              "      border-top-color: var(--fill-color);\n",
              "    }\n",
              "    60% {\n",
              "      border-color: transparent;\n",
              "      border-right-color: var(--fill-color);\n",
              "    }\n",
              "    80% {\n",
              "      border-color: transparent;\n",
              "      border-right-color: var(--fill-color);\n",
              "      border-bottom-color: var(--fill-color);\n",
              "    }\n",
              "    90% {\n",
              "      border-color: transparent;\n",
              "      border-bottom-color: var(--fill-color);\n",
              "    }\n",
              "  }\n",
              "</style>\n",
              "\n",
              "      <script>\n",
              "        async function quickchart(key) {\n",
              "          const quickchartButtonEl =\n",
              "            document.querySelector('#' + key + ' button');\n",
              "          quickchartButtonEl.disabled = true;  // To prevent multiple clicks.\n",
              "          quickchartButtonEl.classList.add('colab-df-spinner');\n",
              "          try {\n",
              "            const charts = await google.colab.kernel.invokeFunction(\n",
              "                'suggestCharts', [key], {});\n",
              "          } catch (error) {\n",
              "            console.error('Error during call to suggestCharts:', error);\n",
              "          }\n",
              "          quickchartButtonEl.classList.remove('colab-df-spinner');\n",
              "          quickchartButtonEl.classList.add('colab-df-quickchart-complete');\n",
              "        }\n",
              "        (() => {\n",
              "          let quickchartButtonEl =\n",
              "            document.querySelector('#df-bc31a2c5-59eb-4c1e-88a3-4c9cb475c95b button');\n",
              "          quickchartButtonEl.style.display =\n",
              "            google.colab.kernel.accessAllowed ? 'block' : 'none';\n",
              "        })();\n",
              "      </script>\n",
              "    </div>\n",
              "\n",
              "    </div>\n",
              "  </div>\n"
            ],
            "text/plain": [
              "                                                Text  \\\n",
              "0  I have bought several of the Vitality canned d...   \n",
              "1  Product arrived labeled as Jumbo Salted Peanut...   \n",
              "2  This is a confection that has been around a fe...   \n",
              "3  If you are looking for the secret ingredient i...   \n",
              "4  Great taffy at a great price.  There was a wid...   \n",
              "\n",
              "                                        Cleaned_Text  \\\n",
              "0  bought several vitality canned dog food produc...   \n",
              "1  product arrived labeled jumbo salted peanutsth...   \n",
              "2  confection around centuries light pillowy citr...   \n",
              "3  looking secret ingredient robitussin believe f...   \n",
              "4  great taffy great price wide assortment yummy ...   \n",
              "\n",
              "                                     lemmatized_text  \n",
              "0  buy several vitality can dog food product find...  \n",
              "1  product arrive label jumbo salt peanutsthe pea...  \n",
              "2  confection around century light pillowy citrus...  \n",
              "3  look secret ingredient robitussin believe find...  \n",
              "4  great taffy great price wide assortment yummy ...  "
            ]
          },
          "execution_count": 15,
          "metadata": {},
          "output_type": "execute_result"
        }
      ],
      "source": [
        "df[['Text', 'Cleaned_Text','lemmatized_text']].head()"
      ]
    },
    {
      "cell_type": "code",
      "execution_count": null,
      "metadata": {
        "colab": {
          "background_save": true
        },
        "id": "DIPlHXjXozKp"
      },
      "outputs": [],
      "source": [
        "df[['Text', 'Cleaned_Text', 'lemmatized_text']].to_csv('processed_text.csv')\n"
      ]
    },
    {
      "cell_type": "code",
      "execution_count": null,
      "metadata": {
        "colab": {
          "background_save": true
        },
        "id": "nBb-phAttNbj",
        "outputId": "a602ea17-a92b-4438-a03c-dc108dd91283"
      },
      "outputs": [
        {
          "name": "stdout",
          "output_type": "stream",
          "text": [
            "updating: processed_text.csv (deflated 72%)\n"
          ]
        },
        {
          "data": {
            "application/javascript": [
              "\n",
              "    async function download(id, filename, size) {\n",
              "      if (!google.colab.kernel.accessAllowed) {\n",
              "        return;\n",
              "      }\n",
              "      const div = document.createElement('div');\n",
              "      const label = document.createElement('label');\n",
              "      label.textContent = `Downloading \"${filename}\": `;\n",
              "      div.appendChild(label);\n",
              "      const progress = document.createElement('progress');\n",
              "      progress.max = size;\n",
              "      div.appendChild(progress);\n",
              "      document.body.appendChild(div);\n",
              "\n",
              "      const buffers = [];\n",
              "      let downloaded = 0;\n",
              "\n",
              "      const channel = await google.colab.kernel.comms.open(id);\n",
              "      // Send a message to notify the kernel that we're ready.\n",
              "      channel.send({})\n",
              "\n",
              "      for await (const message of channel.messages) {\n",
              "        // Send a message to notify the kernel that we're ready.\n",
              "        channel.send({})\n",
              "        if (message.buffers) {\n",
              "          for (const buffer of message.buffers) {\n",
              "            buffers.push(buffer);\n",
              "            downloaded += buffer.byteLength;\n",
              "            progress.value = downloaded;\n",
              "          }\n",
              "        }\n",
              "      }\n",
              "      const blob = new Blob(buffers, {type: 'application/binary'});\n",
              "      const a = document.createElement('a');\n",
              "      a.href = window.URL.createObjectURL(blob);\n",
              "      a.download = filename;\n",
              "      div.appendChild(a);\n",
              "      a.click();\n",
              "      div.remove();\n",
              "    }\n",
              "  "
            ],
            "text/plain": [
              "<IPython.core.display.Javascript object>"
            ]
          },
          "metadata": {},
          "output_type": "display_data"
        },
        {
          "data": {
            "application/javascript": [
              "download(\"download_edd89c90-42bd-40ed-b87a-5e0a05fee929\", \"processed_text.zip\", 27284087)"
            ],
            "text/plain": [
              "<IPython.core.display.Javascript object>"
            ]
          },
          "metadata": {},
          "output_type": "display_data"
        }
      ],
      "source": [
        "from google.colab import files\n",
        "!zip processed_text.zip processed_text.csv\n",
        "files.download('processed_text.zip')\n"
      ]
    },
    {
      "cell_type": "markdown",
      "metadata": {
        "id": "GHpHTpx9Pmkl"
      },
      "source": [
        "#Bag of Words\n"
      ]
    },
    {
      "cell_type": "code",
      "execution_count": null,
      "metadata": {
        "colab": {
          "background_save": true
        },
        "id": "4BFyGPbIruyy",
        "outputId": "b452436d-e52b-4781-b469-696487a8e5d0"
      },
      "outputs": [
        {
          "name": "stdout",
          "output_type": "stream",
          "text": [
            "Step 1: Verifying data...\n",
            "Found DataFrame with 100000 rows.\n",
            "\n",
            "Step 2: Creating Bag of Words representation...\n",
            "Processing all documents...\n",
            "Vocabulary size: 10000 unique words\n",
            "Bag of Words matrix shape: (100000, 10000)\n",
            "Sparsity: 99.68%\n",
            "Documents in dataset: 100000\n",
            "Documents in BoW matrix: 100000\n",
            "\n",
            "Step 3: Saving results...\n",
            "\n",
            "Top 20 most common words:\n",
            "       word  count\n",
            "0       not  57634\n",
            "1      like  50986\n",
            "2      good  44615\n",
            "3     taste  44436\n",
            "4    flavor  35953\n",
            "5       one  32819\n",
            "6       get  32368\n",
            "7      love  31569\n",
            "8        do  31163\n",
            "9   product  30977\n",
            "10     make  30766\n",
            "11      try  29206\n",
            "12      use  29065\n",
            "13    great  28675\n",
            "14     well  28363\n",
            "15      tea  26479\n",
            "16      buy  25886\n",
            "17     food  25496\n",
            "18   coffee  25337\n",
            "19    would  24610\n",
            "\n",
            "Step 4: Creating sample visualization...\n",
            "\n",
            "Sample of Bag of Words (first 5 rows, first 10 columns):\n",
            "   aa  aafco  ab  aback  abandon  abc  abdominal  ability  abit  able\n",
            "0   0      0   0      0        0    0          0        0     0     0\n",
            "1   0      0   0      0        0    0          0        0     0     0\n",
            "2   0      0   0      0        0    0          0        0     0     0\n",
            "3   0      0   0      0        0    0          0        0     0     0\n",
            "4   0      0   0      0        0    0          0        0     0     0\n",
            "\n",
            "Bag of Words processing complete!\n",
            "Files saved:\n",
            "- bow_matrix_100k.npz: Sparse matrix with full bag of words\n",
            "- count_vectorizer_100k.pkl: The vectorizer model with vocabulary\n",
            "- word_frequencies_100k.csv: Word frequency counts\n"
          ]
        },
        {
          "data": {
            "text/plain": [
              "204"
            ]
          },
          "execution_count": 18,
          "metadata": {},
          "output_type": "execute_result"
        }
      ],
      "source": [
        "import pandas as pd\n",
        "import numpy as np\n",
        "from sklearn.feature_extraction.text import CountVectorizer\n",
        "from scipy import sparse\n",
        "import pickle\n",
        "import os\n",
        "import gc\n",
        "\n",
        "# checking if all the necessary data is there\n",
        "print(\"Step 1: Verifying data...\")\n",
        "if 'df' not in locals() or 'lemmatized_text' not in df.columns:\n",
        "    print(\"Error: DataFrame with lemmatized text not found.\")\n",
        "    print(\"Please run the preprocessing steps first.\")\n",
        "    # exit\n",
        "else:\n",
        "    print(f\"Found DataFrame with {len(df)} rows.\")\n",
        "\n",
        "# creating bag of words\n",
        "print(\"\\nStep 2: Creating Bag of Words representation...\")\n",
        "count_vectorizer = CountVectorizer(\n",
        "    max_features=10000,  # taking top 10000 words\n",
        "    min_df=5,            # ignoring terms in lesser than 5 documents\n",
        "    max_df=0.8           # ignoring terms in more than 80% of documents\n",
        ")\n",
        "\n",
        "# processing the entire dataset\n",
        "print(\"Processing all documents...\")\n",
        "bow_matrix = count_vectorizer.fit_transform(df['lemmatized_text'])\n",
        "\n",
        "# vocabulary information\n",
        "feature_names = count_vectorizer.get_feature_names_out()\n",
        "print(f\"Vocabulary size: {len(feature_names)} unique words\")\n",
        "print(f\"Bag of Words matrix shape: {bow_matrix.shape}\")\n",
        "print(f\"Sparsity: {100 * (1 - bow_matrix.nnz / (bow_matrix.shape[0] * bow_matrix.shape[1])):.2f}%\")\n",
        "\n",
        "# Verification\n",
        "print(f\"Documents in dataset: {len(df)}\")\n",
        "print(f\"Documents in BoW matrix: {bow_matrix.shape[0]}\")\n",
        "assert len(df) == bow_matrix.shape[0], \"Not all documents were processed!\"\n",
        "\n",
        "# Saving results\n",
        "print(\"\\nStep 3: Saving results...\")\n",
        "sparse.save_npz('bow_matrix_100k.npz', bow_matrix)\n",
        "with open('count_vectorizer_100k.pkl', 'wb') as f:\n",
        "    pickle.dump(count_vectorizer, f)\n",
        "\n",
        "#  word frequency related information\n",
        "word_counts = bow_matrix.sum(axis=0).A1\n",
        "word_freq = pd.DataFrame({'word': feature_names, 'count': word_counts})\n",
        "word_freq = word_freq.sort_values('count', ascending=False).reset_index(drop=True)\n",
        "word_freq.to_csv('word_frequencies_100k.csv', index=False)\n",
        "\n",
        "#  top words\n",
        "print(\"\\nTop 20 most common words:\")\n",
        "print(word_freq.head(20))\n",
        "\n",
        "# Create a small sample DataFrame  (first 5 rows, all columns)\n",
        "print(\"\\nStep 4: Creating sample visualization...\")\n",
        "sample_size = min(5, bow_matrix.shape[0])\n",
        "sample_df = pd.DataFrame(\n",
        "    bow_matrix[:sample_size].toarray(),\n",
        "    columns=feature_names\n",
        ")\n",
        "\n",
        "#  small portion of the sample\n",
        "print(\"\\nSample of Bag of Words (first 5 rows, first 10 columns):\")\n",
        "print(sample_df.iloc[:, :10])\n",
        "\n",
        "# bag of words indicator to original DataFrame\n",
        "df['has_bow'] = True\n",
        "\n",
        "print(\"\\nBag of Words processing complete!\")\n",
        "print(\"Files saved:\")\n",
        "print(\"- bow_matrix_100k.npz: Sparse matrix with full bag of words\")\n",
        "print(\"- count_vectorizer_100k.pkl: The vectorizer model with vocabulary\")\n",
        "print(\"- word_frequencies_100k.csv: Word frequency counts\")\n",
        "\n",
        "# Clean up memory\n",
        "del sample_df\n",
        "gc.collect()"
      ]
    },
    {
      "cell_type": "code",
      "execution_count": null,
      "metadata": {
        "colab": {
          "background_save": true
        },
        "id": "dqDfOyrdtoB_"
      },
      "outputs": [],
      "source": [
        "df.to_csv('preprocessed_reviews_100k.csv', index=False)"
      ]
    },
    {
      "cell_type": "markdown",
      "metadata": {
        "id": "H7eFjUuCuQdi"
      },
      "source": [
        "#Amazon Fine Food Reviews - Bag of Words Processing\n",
        "##Files Created:\n",
        "\n",
        "### **bow_matrix_100k.npz**: Sparse matrix with bag of words representation (100,000 documents × 10,000 features)\n",
        "###**count_vectorizer_100k.pkl**: Vectorizer model with vocabulary mapping\n",
        "###**word_frequencies_100k.csv**: Word frequency counts for all terms\n",
        "\n",
        "##Processing Summary:\n",
        "\n",
        "\n",
        "\n",
        "\n",
        "\n",
        "* Successfully processed all 100,000 reviews\n",
        "* Created vocabulary of 10,000 most relevant terms\n",
        "* Matrix sparsity: 99.68% (memory-efficient)\n",
        "* Top words: \"not\", \"like\", \"good\", \"taste\", \"flavor\"\n",
        "* All documents from original dataset included\n",
        "\n",
        "##Loading for Future Use:\n",
        "\n",
        "    from scipy import sparse\n",
        "\n",
        "    import pickle\n",
        "\n",
        "\n",
        "    bow_matrix = sparse.load_npz('bow_matrix_100k.npz')\n",
        "\n",
        "\n",
        "    with open('count_vectorizer_100k.pkl', 'rb') as f:\n",
        "\n",
        "          count_vectorizer = pickle.load(f)\n",
        "    \n",
        "\n",
        "    feature_names = count_vectorizer.get_feature_names_out()"
      ]
    },
    {
      "cell_type": "code",
      "execution_count": null,
      "metadata": {
        "colab": {
          "background_save": true
        },
        "id": "rPsyDn0U9cv1",
        "outputId": "3eac2a17-fe8c-4861-8db4-80b89a0a6e4e"
      },
      "outputs": [
        {
          "name": "stdout",
          "output_type": "stream",
          "text": [
            "Requirement already satisfied: gensim in /usr/local/lib/python3.11/dist-packages (4.3.3)\n",
            "Collecting numpy<2.0,>=1.18.5 (from gensim)\n",
            "  Using cached numpy-1.26.4-cp311-cp311-manylinux_2_17_x86_64.manylinux2014_x86_64.whl.metadata (61 kB)\n",
            "Requirement already satisfied: scipy<1.14.0,>=1.7.0 in /usr/local/lib/python3.11/dist-packages (from gensim) (1.13.1)\n",
            "Requirement already satisfied: smart-open>=1.8.1 in /usr/local/lib/python3.11/dist-packages (from gensim) (7.1.0)\n",
            "Requirement already satisfied: wrapt in /usr/local/lib/python3.11/dist-packages (from smart-open>=1.8.1->gensim) (1.17.2)\n",
            "Using cached numpy-1.26.4-cp311-cp311-manylinux_2_17_x86_64.manylinux2014_x86_64.whl (18.3 MB)\n",
            "Installing collected packages: numpy\n",
            "  Attempting uninstall: numpy\n",
            "    Found existing installation: numpy 2.2.6\n",
            "    Uninstalling numpy-2.2.6:\n",
            "      Successfully uninstalled numpy-2.2.6\n",
            "\u001b[31mERROR: pip's dependency resolver does not currently take into account all the packages that are installed. This behaviour is the source of the following dependency conflicts.\n",
            "thinc 8.3.6 requires numpy<3.0.0,>=2.0.0, but you have numpy 1.26.4 which is incompatible.\n",
            "tsfresh 0.21.0 requires scipy>=1.14.0; python_version >= \"3.10\", but you have scipy 1.13.1 which is incompatible.\u001b[0m\u001b[31m\n",
            "\u001b[0mSuccessfully installed numpy-1.26.4\n"
          ]
        }
      ],
      "source": [
        "!pip install gensim"
      ]
    },
    {
      "cell_type": "code",
      "execution_count": null,
      "metadata": {
        "colab": {
          "background_save": true
        },
        "id": "fxnlL3Gy97Ou",
        "outputId": "63ab0cb6-c060-4b1b-aa7d-9a8ba74e2ad9"
      },
      "outputs": [
        {
          "name": "stdout",
          "output_type": "stream",
          "text": [
            "Found existing installation: numpy 1.26.4\n",
            "Uninstalling numpy-1.26.4:\n",
            "  Successfully uninstalled numpy-1.26.4\n",
            "Found existing installation: gensim 4.3.3\n",
            "Uninstalling gensim-4.3.3:\n",
            "  Successfully uninstalled gensim-4.3.3\n",
            "Collecting numpy\n",
            "  Using cached numpy-2.2.6-cp311-cp311-manylinux_2_17_x86_64.manylinux2014_x86_64.whl.metadata (62 kB)\n",
            "Using cached numpy-2.2.6-cp311-cp311-manylinux_2_17_x86_64.manylinux2014_x86_64.whl (16.8 MB)\n",
            "Installing collected packages: numpy\n",
            "\u001b[31mERROR: pip's dependency resolver does not currently take into account all the packages that are installed. This behaviour is the source of the following dependency conflicts.\n",
            "tensorflow 2.18.0 requires numpy<2.1.0,>=1.26.0, but you have numpy 2.2.6 which is incompatible.\n",
            "numba 0.60.0 requires numpy<2.1,>=1.22, but you have numpy 2.2.6 which is incompatible.\n",
            "tsfresh 0.21.0 requires scipy>=1.14.0; python_version >= \"3.10\", but you have scipy 1.13.1 which is incompatible.\u001b[0m\u001b[31m\n",
            "\u001b[0mSuccessfully installed numpy-2.2.6\n",
            "Collecting gensim\n",
            "  Using cached gensim-4.3.3-cp311-cp311-manylinux_2_17_x86_64.manylinux2014_x86_64.whl.metadata (8.1 kB)\n",
            "Collecting numpy<2.0,>=1.18.5 (from gensim)\n",
            "  Using cached numpy-1.26.4-cp311-cp311-manylinux_2_17_x86_64.manylinux2014_x86_64.whl.metadata (61 kB)\n",
            "Requirement already satisfied: scipy<1.14.0,>=1.7.0 in /usr/local/lib/python3.11/dist-packages (from gensim) (1.13.1)\n",
            "Requirement already satisfied: smart-open>=1.8.1 in /usr/local/lib/python3.11/dist-packages (from gensim) (7.1.0)\n",
            "Requirement already satisfied: wrapt in /usr/local/lib/python3.11/dist-packages (from smart-open>=1.8.1->gensim) (1.17.2)\n",
            "Using cached gensim-4.3.3-cp311-cp311-manylinux_2_17_x86_64.manylinux2014_x86_64.whl (26.7 MB)\n",
            "Using cached numpy-1.26.4-cp311-cp311-manylinux_2_17_x86_64.manylinux2014_x86_64.whl (18.3 MB)\n",
            "Installing collected packages: numpy, gensim\n",
            "  Attempting uninstall: numpy\n",
            "    Found existing installation: numpy 2.2.6\n",
            "    Uninstalling numpy-2.2.6:\n",
            "      Successfully uninstalled numpy-2.2.6\n",
            "\u001b[31mERROR: pip's dependency resolver does not currently take into account all the packages that are installed. This behaviour is the source of the following dependency conflicts.\n",
            "thinc 8.3.6 requires numpy<3.0.0,>=2.0.0, but you have numpy 1.26.4 which is incompatible.\n",
            "tsfresh 0.21.0 requires scipy>=1.14.0; python_version >= \"3.10\", but you have scipy 1.13.1 which is incompatible.\u001b[0m\u001b[31m\n",
            "\u001b[0mSuccessfully installed gensim-4.3.3 numpy-1.26.4\n"
          ]
        }
      ],
      "source": [
        "# Reset packages\n",
        "!pip uninstall -y numpy\n",
        "!pip uninstall -y gensim\n",
        "\n",
        "# Reinstall in correct order\n",
        "!pip install numpy\n",
        "!pip install gensim\n",
        "\n",
        "# Now try importing again\n",
        "from gensim.corpora import Dictionary\n",
        "from gensim.models import LdaModel\n",
        "\n",
        "# Continue with the code after successful import"
      ]
    },
    {
      "cell_type": "code",
      "execution_count": null,
      "metadata": {
        "colab": {
          "background_save": true
        },
        "id": "sAI7mI3W-kJu",
        "outputId": "ecd97885-a791-4f43-825e-a2a30426dcaf"
      },
      "outputs": [
        {
          "name": "stdout",
          "output_type": "stream",
          "text": [
            "Index(['Id', 'ProductId', 'UserId', 'ProfileName', 'HelpfulnessNumerator',\n",
            "       'HelpfulnessDenominator', 'Score', 'Time', 'Summary', 'Text',\n",
            "       'Cleaned_Text', 'lemmatized_text', 'has_bow'],\n",
            "      dtype='object')\n",
            "0    buy several vitality can dog food product find...\n",
            "1    product arrive label jumbo salt peanutsthe pea...\n",
            "2    confection around century light pillowy citrus...\n",
            "3    look secret ingredient robitussin believe find...\n",
            "4    great taffy great price wide assortment yummy ...\n",
            "Name: lemmatized_text, dtype: object\n",
            "Top words in topics:\n",
            "Topic #0: 0.314*\"box\" + 0.033*\"gum\" + 0.023*\"picture\" + 0.022*\"service\" + 0.022*\"packaging\" + 0.021*\"pack\" + 0.021*\"customer\" + 0.020*\"send\" + 0.018*\"show\" + 0.017*\"directly\"\n",
            "Topic #1: 0.126*\"butter\" + 0.117*\"peanut\" + 0.067*\"pie\" + 0.052*\"bread\" + 0.040*\"bake\" + 0.037*\"flour\" + 0.035*\"grill\" + 0.029*\"roll\" + 0.021*\"slice\" + 0.020*\"sandwich\"\n",
            "Topic #2: 0.124*\"mix\" + 0.099*\"make\" + 0.056*\"ice\" + 0.048*\"use\" + 0.046*\"recipe\" + 0.045*\"cream\" + 0.040*\"vanilla\" + 0.031*\"cake\" + 0.026*\"add\" + 0.019*\"egg\"\n",
            "Topic #3: 0.095*\"red\" + 0.084*\"color\" + 0.074*\"black\" + 0.055*\"orange\" + 0.038*\"espresso\" + 0.033*\"yellow\" + 0.026*\"licorice\" + 0.024*\"style\" + 0.023*\"sesame\" + 0.023*\"cover\"\n",
            "Topic #4: 0.091*\"fat\" + 0.071*\"protein\" + 0.062*\"coconut\" + 0.045*\"high\" + 0.042*\"calorie\" + 0.042*\"g\" + 0.040*\"fiber\" + 0.027*\"content\" + 0.026*\"low\" + 0.022*\"nutritional\"\n",
            "Topic #5: 0.052*\"grow\" + 0.050*\"hamburger\" + 0.048*\"tomato\" + 0.043*\"cashew\" + 0.037*\"sprinkle\" + 0.034*\"san\" + 0.032*\"flake\" + 0.032*\"michael\" + 0.029*\"inch\" + 0.025*\"seriously\"\n",
            "Topic #6: 0.110*\"ingredient\" + 0.048*\"corn\" + 0.042*\"contain\" + 0.040*\"natural\" + 0.038*\"list\" + 0.029*\"product\" + 0.028*\"soy\" + 0.025*\"label\" + 0.024*\"vitamin\" + 0.017*\"artificial\"\n",
            "Topic #7: 0.216*\"organic\" + 0.067*\"breakfast\" + 0.037*\"cinnamon\" + 0.028*\"grey\" + 0.027*\"fair\" + 0.026*\"earl\" + 0.024*\"subtle\" + 0.023*\"leaf\" + 0.022*\"english\" + 0.022*\"scent\"\n",
            "Topic #8: 0.259*\"I\" + 0.144*\"ve\" + 0.130*\"m\" + 0.047*\"try\" + 0.021*\"good\" + 0.018*\"ever\" + 0.014*\"sure\" + 0.014*\"brand\" + 0.013*\"well\" + 0.011*\"far\"\n",
            "Topic #9: 0.181*\"kcup\" + 0.156*\"blend\" + 0.081*\"keurig\" + 0.075*\"smooth\" + 0.033*\"count\" + 0.031*\"wife\" + 0.030*\"brewer\" + 0.029*\"green\" + 0.027*\"mountain\" + 0.026*\"b\"\n",
            "Topic #10: 0.079*\"order\" + 0.032*\"product\" + 0.029*\"amazon\" + 0.024*\"receive\" + 0.023*\"item\" + 0.018*\"purchase\" + 0.017*\"review\" + 0.016*\"one\" + 0.016*\"would\" + 0.015*\"package\"\n",
            "Topic #11: 0.152*\"almond\" + 0.118*\"blue\" + 0.073*\"cracker\" + 0.067*\"hair\" + 0.031*\"buffalo\" + 0.026*\"spot\" + 0.025*\"roasted\" + 0.025*\"skin\" + 0.022*\"pecan\" + 0.020*\"wash\"\n",
            "Topic #12: 0.094*\"broccoli\" + 0.023*\"american\" + 0.023*\"wine\" + 0.023*\"live\" + 0.021*\"introduce\" + 0.020*\"farm\" + 0.019*\"country\" + 0.019*\"asian\" + 0.018*\"drive\" + 0.017*\"throat\"\n",
            "Topic #13: 0.085*\"dark\" + 0.077*\"bold\" + 0.038*\"mint\" + 0.036*\"diamond\" + 0.026*\"drinker\" + 0.022*\"delight\" + 0.018*\"breath\" + 0.016*\"lover\" + 0.016*\"beautiful\" + 0.016*\"remind\"\n",
            "Topic #14: 0.115*\"product\" + 0.076*\"great\" + 0.069*\"recommend\" + 0.052*\"good\" + 0.035*\"highly\" + 0.035*\"would\" + 0.033*\"taste\" + 0.031*\"excellent\" + 0.027*\"well\" + 0.022*\"quality\"\n",
            "Topic #15: 0.121*\"date\" + 0.091*\"seed\" + 0.058*\"fantastic\" + 0.057*\"stale\" + 0.053*\"batch\" + 0.047*\"thank\" + 0.042*\"summer\" + 0.041*\"fresh\" + 0.039*\"expiration\" + 0.033*\"school\"\n",
            "Topic #16: 0.392*\"bar\" + 0.074*\"granola\" + 0.043*\"wellness\" + 0.032*\"chunk\" + 0.026*\"eat\" + 0.026*\"pill\" + 0.025*\"replacement\" + 0.019*\"fill\" + 0.016*\"lipton\" + 0.015*\"kind\"\n",
            "Topic #17: 0.038*\"bag\" + 0.018*\"plastic\" + 0.018*\"use\" + 0.017*\"open\" + 0.017*\"container\" + 0.016*\"small\" + 0.014*\"package\" + 0.013*\"keep\" + 0.013*\"come\" + 0.013*\"make\"\n",
            "Topic #18: 0.069*\"taste\" + 0.068*\"like\" + 0.031*\"good\" + 0.031*\"would\" + 0.022*\"well\" + 0.021*\"really\" + 0.021*\"try\" + 0.018*\"think\" + 0.017*\"flavor\" + 0.016*\"one\"\n",
            "Topic #19: 0.117*\"fruit\" + 0.088*\"juice\" + 0.071*\"cherry\" + 0.057*\"apple\" + 0.053*\"lemon\" + 0.052*\"flavor\" + 0.045*\"soda\" + 0.036*\"salad\" + 0.030*\"strawberry\" + 0.027*\"pomegranate\"\n",
            "Topic #20: 0.139*\"flavor\" + 0.036*\"like\" + 0.035*\"candy\" + 0.030*\"one\" + 0.026*\"nice\" + 0.025*\"good\" + 0.025*\"try\" + 0.025*\"favorite\" + 0.022*\"pouch\" + 0.022*\"sweet\"\n",
            "Topic #21: 0.214*\"coffee\" + 0.069*\"cup\" + 0.034*\"flavor\" + 0.031*\"strong\" + 0.031*\"like\" + 0.027*\"roast\" + 0.025*\"taste\" + 0.024*\"good\" + 0.022*\"brew\" + 0.017*\"french\"\n",
            "Topic #22: 0.411*\"drink\" + 0.055*\"water\" + 0.043*\"beverage\" + 0.037*\"switch\" + 0.034*\"caffeine\" + 0.032*\"decaf\" + 0.024*\"tired\" + 0.019*\"bitterness\" + 0.016*\"sip\" + 0.011*\"mexican\"\n",
            "Topic #23: 0.150*\"chip\" + 0.119*\"salt\" + 0.046*\"bag\" + 0.045*\"flavor\" + 0.043*\"potato\" + 0.028*\"salty\" + 0.019*\"chili\" + 0.019*\"vinegar\" + 0.018*\"banana\" + 0.017*\"lime\"\n",
            "Topic #24: 0.285*\"tea\" + 0.054*\"green\" + 0.027*\"flavor\" + 0.027*\"ginger\" + 0.022*\"bag\" + 0.021*\"drink\" + 0.021*\"taste\" + 0.017*\"good\" + 0.015*\"like\" + 0.015*\"matcha\"\n",
            "Topic #25: 0.101*\"sauce\" + 0.088*\"hot\" + 0.060*\"spicy\" + 0.059*\"spice\" + 0.051*\"pepper\" + 0.033*\"flavor\" + 0.029*\"heat\" + 0.023*\"food\" + 0.019*\"kick\" + 0.018*\"burn\"\n",
            "Topic #26: 0.058*\"price\" + 0.053*\"store\" + 0.046*\"find\" + 0.045*\"amazon\" + 0.041*\"buy\" + 0.023*\"get\" + 0.023*\"good\" + 0.021*\"local\" + 0.018*\"grocery\" + 0.015*\"love\"\n",
            "Topic #27: 0.248*\"free\" + 0.121*\"gluten\" + 0.080*\"jerky\" + 0.046*\"toy\" + 0.043*\"wheat\" + 0.022*\"sense\" + 0.021*\"alot\" + 0.020*\"vendor\" + 0.016*\"impressed\" + 0.016*\"gf\"\n",
            "Topic #28: 0.273*\"not\" + 0.148*\"do\" + 0.043*\"can\" + 0.041*\"be\" + 0.033*\"like\" + 0.019*\"get\" + 0.018*\"will\" + 0.017*\"know\" + 0.014*\"eat\" + 0.014*\"really\"\n",
            "Topic #29: 0.068*\"product\" + 0.048*\"smell\" + 0.036*\"bad\" + 0.033*\"money\" + 0.032*\"throw\" + 0.029*\"away\" + 0.023*\"waste\" + 0.019*\"buy\" + 0.018*\"supply\" + 0.013*\"even\"\n",
            "Topic #30: 0.111*\"fast\" + 0.104*\"save\" + 0.070*\"subscribe\" + 0.043*\"kibble\" + 0.042*\"continue\" + 0.034*\"filler\" + 0.032*\"yum\" + 0.026*\"satisfied\" + 0.022*\"suck\" + 0.021*\"convenience\"\n",
            "Topic #31: 0.133*\"sugar\" + 0.041*\"taste\" + 0.039*\"low\" + 0.036*\"sweet\" + 0.036*\"diet\" + 0.035*\"calorie\" + 0.025*\"add\" + 0.024*\"use\" + 0.023*\"alternative\" + 0.021*\"carb\"\n",
            "Topic #32: 0.104*\"cheese\" + 0.072*\"ounce\" + 0.072*\"oz\" + 0.064*\"pack\" + 0.063*\"serve\" + 0.057*\"per\" + 0.039*\"size\" + 0.024*\"gram\" + 0.023*\"mango\" + 0.020*\"small\"\n",
            "Topic #33: 0.073*\"meal\" + 0.069*\"chicken\" + 0.057*\"add\" + 0.055*\"noodle\" + 0.053*\"cook\" + 0.046*\"soup\" + 0.040*\"quick\" + 0.030*\"make\" + 0.027*\"easy\" + 0.021*\"veggie\"\n",
            "Topic #34: 0.083*\"oil\" + 0.067*\"pasta\" + 0.063*\"use\" + 0.040*\"dish\" + 0.036*\"meat\" + 0.032*\"olive\" + 0.021*\"chef\" + 0.019*\"cook\" + 0.017*\"prepare\" + 0.016*\"add\"\n",
            "Topic #35: 0.060*\"day\" + 0.033*\"feel\" + 0.032*\"energy\" + 0.031*\"help\" + 0.025*\"weight\" + 0.023*\"get\" + 0.021*\"start\" + 0.021*\"work\" + 0.021*\"take\" + 0.020*\"lose\"\n",
            "Topic #36: 0.126*\"s\" + 0.117*\"re\" + 0.106*\"you\" + 0.079*\"d\" + 0.075*\"they\" + 0.068*\"that\" + 0.045*\"i\" + 0.037*\"ll\" + 0.028*\"there\" + 0.021*\"skillet\"\n",
            "Topic #37: 0.088*\"love\" + 0.055*\"snack\" + 0.052*\"eat\" + 0.049*\"great\" + 0.036*\"good\" + 0.032*\"taste\" + 0.027*\"like\" + 0.027*\"kid\" + 0.025*\"healthy\" + 0.021*\"one\"\n",
            "Topic #38: 0.411*\"chocolate\" + 0.042*\"melt\" + 0.040*\"pot\" + 0.039*\"cocoa\" + 0.028*\"spoon\" + 0.027*\"training\" + 0.024*\"hot\" + 0.019*\"party\" + 0.017*\"mouth\" + 0.017*\"rich\"\n",
            "Topic #39: 0.106*\"year\" + 0.071*\"old\" + 0.042*\"month\" + 0.040*\"baby\" + 0.032*\"son\" + 0.030*\"ago\" + 0.028*\"daughter\" + 0.028*\"love\" + 0.022*\"use\" + 0.018*\"child\"\n",
            "Topic #40: 0.149*\"dog\" + 0.122*\"treat\" + 0.052*\"love\" + 0.042*\"chew\" + 0.028*\"small\" + 0.026*\"tooth\" + 0.026*\"give\" + 0.019*\"one\" + 0.019*\"get\" + 0.018*\"size\"\n",
            "Topic #41: 0.146*\"food\" + 0.062*\"dog\" + 0.044*\"cat\" + 0.035*\"eat\" + 0.020*\"feed\" + 0.017*\"dry\" + 0.016*\"diet\" + 0.014*\"love\" + 0.012*\"pet\" + 0.012*\"vet\"\n",
            "Topic #42: 0.102*\"water\" + 0.078*\"milk\" + 0.044*\"add\" + 0.036*\"packet\" + 0.032*\"powder\" + 0.030*\"syrup\" + 0.021*\"make\" + 0.020*\"use\" + 0.019*\"bottle\" + 0.019*\"cup\"\n",
            "Topic #43: 0.218*\"use\" + 0.108*\"work\" + 0.039*\"well\" + 0.035*\"make\" + 0.027*\"machine\" + 0.026*\"pod\" + 0.024*\"great\" + 0.022*\"fine\" + 0.021*\"much\" + 0.020*\"less\"\n",
            "Topic #44: 0.033*\"get\" + 0.024*\"go\" + 0.023*\"one\" + 0.022*\"time\" + 0.021*\"try\" + 0.017*\"first\" + 0.016*\"day\" + 0.015*\"would\" + 0.015*\"take\" + 0.014*\"back\"\n",
            "Topic #45: 0.263*\"cookie\" + 0.125*\"popcorn\" + 0.084*\"pop\" + 0.036*\"pumpkin\" + 0.030*\"plant\" + 0.023*\"jelly\" + 0.021*\"corn\" + 0.020*\"kernel\" + 0.018*\"microwave\" + 0.017*\"crispy\"\n",
            "Topic #46: 0.128*\"rice\" + 0.091*\"white\" + 0.059*\"brown\" + 0.055*\"grain\" + 0.027*\"crystal\" + 0.026*\"increase\" + 0.026*\"tuna\" + 0.021*\"system\" + 0.021*\"digestive\" + 0.020*\"complete\"\n",
            "Topic #47: 0.072*\"product\" + 0.033*\"make\" + 0.028*\"company\" + 0.019*\"many\" + 0.018*\"produce\" + 0.018*\"provide\" + 0.016*\"we\" + 0.014*\"kraft\" + 0.014*\"number\" + 0.013*\"glutenfree\"\n",
            "Topic #48: 0.092*\"bean\" + 0.062*\"night\" + 0.057*\"morning\" + 0.027*\"tin\" + 0.025*\"every\" + 0.025*\"francisco\" + 0.022*\"wake\" + 0.021*\"sleep\" + 0.019*\"visit\" + 0.018*\"beer\"\n",
            "Topic #49: 0.137*\"cereal\" + 0.135*\"beef\" + 0.088*\"nut\" + 0.084*\"honey\" + 0.072*\"gift\" + 0.045*\"nuts\" + 0.043*\"raisin\" + 0.039*\"christmas\" + 0.038*\"costco\" + 0.023*\"fog\"\n"
          ]
        }
      ],
      "source": [
        "\n",
        "# Step 1: Load your data first\n",
        "import pandas as pd\n",
        "import numpy as np\n",
        "from scipy import sparse\n",
        "import pickle\n",
        "\n",
        "# Load your previously saved data\n",
        "# If you saved the preprocessed DataFrame:\n",
        "df = pd.read_csv('preprocessed_reviews_100k.csv')\n",
        "\n",
        "# If you didn't save the DataFrame, you need to recreate it from the original source\n",
        "# For example:\n",
        "# df = pd.read_csv(path + \"/Reviews.csv\")\n",
        "# df = df.head(100000)  # Take first 100,000 rows\n",
        "\n",
        "# Check that lemmatized_text column exists\n",
        "print(df.columns)\n",
        "print(df['lemmatized_text'].head())\n",
        "\n",
        "# Step 2: Now run your LDA code\n",
        "from gensim.corpora import Dictionary\n",
        "from gensim.models import LdaModel\n",
        "\n",
        "# Tokenize the lemmatized text\n",
        "tokenized_texts = [text.split() for text in df['lemmatized_text']]\n",
        "\n",
        "# Create dictionary\n",
        "dictionary = Dictionary(tokenized_texts)\n",
        "\n",
        "# Filter extremes to remove very rare and very common words\n",
        "dictionary.filter_extremes(no_below=5, no_above=0.7)\n",
        "\n",
        "# Create a bag-of-words corpus\n",
        "corpus = [dictionary.doc2bow(tokens) for tokens in tokenized_texts]\n",
        "\n",
        "# Train the LDA model\n",
        "lda_model = LdaModel(corpus=corpus, num_topics=50, id2word=dictionary, passes=10, random_state=42)\n",
        "\n",
        "# Save the dictionary, corpus, and model\n",
        "dictionary.save('lda_dictionary.dict')\n",
        "with open('lda_corpus.pkl', 'wb') as f:\n",
        "    pickle.dump(corpus, f)\n",
        "lda_model.save('lda_model_50topics')\n",
        "\n",
        "# Print the topics\n",
        "print(\"Top words in topics:\")\n",
        "for idx, topic in lda_model.print_topics(-1):\n",
        "    print(f\"Topic #{idx}: {topic}\")"
      ]
    }
  ],
  "metadata": {
    "colab": {
      "provenance": []
    },
    "kernelspec": {
      "display_name": "Python 3",
      "name": "python3"
    },
    "language_info": {
      "name": "python"
    }
  },
  "nbformat": 4,
  "nbformat_minor": 0
}